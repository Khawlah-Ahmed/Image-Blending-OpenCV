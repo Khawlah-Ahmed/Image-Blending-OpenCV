{
 "cells": [
  {
   "cell_type": "code",
   "execution_count": 6,
   "metadata": {},
   "outputs": [],
   "source": [
    "\"\"\"\n",
    "Khawla Alarfaj | 215027377\n",
    "Image Blending\n",
    "\n",
    "\"\"\"\n",
    "import cv2 as cv\n",
    "import numpy as np\n",
    "import matplotlib.pyplot as plt\n",
    "\n",
    "img1 = cv.imread(\"sakuraBlossom.jpg\")\n",
    "img2 = cv.imread(\"sakuraTree.png\")\n",
    "\n",
    "for alpha in np.arange(0, 1, 0.1):\n",
    "    dst = cv.addWeighted(img1, alpha, img2, 1-alpha, 0)\n",
    "    cv.imwrite('img'+str(alpha)+'.png',dst)\n",
    "    cv.imshow('Image Blending',dst)\n",
    "    cv.waitKey(200)\n",
    "cv.waitKey(0)\n",
    "cv.destroyAllWindows()"
   ]
  }
 ],
 "metadata": {
  "kernelspec": {
   "display_name": "Python 3",
   "language": "python",
   "name": "python3"
  },
  "language_info": {
   "codemirror_mode": {
    "name": "ipython",
    "version": 3
   },
   "file_extension": ".py",
   "mimetype": "text/x-python",
   "name": "python",
   "nbconvert_exporter": "python",
   "pygments_lexer": "ipython3",
   "version": "3.6.5"
  }
 },
 "nbformat": 4,
 "nbformat_minor": 2
}
